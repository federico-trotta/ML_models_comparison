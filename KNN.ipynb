{
 "cells": [
  {
   "cell_type": "code",
   "execution_count": 1,
   "id": "e6cea63d",
   "metadata": {},
   "outputs": [],
   "source": [
    "import pandas as pd\n",
    "import numpy as np\n",
    "import pandas_profiling\n",
    "from pandas_profiling import ProfileReport\n",
    "from sklearn.model_selection import train_test_split\n",
    "from sklearn.preprocessing import StandardScaler\n",
    "from sklearn.neighbors import KNeighborsClassifier as KNN\n",
    "from sklearn.metrics import confusion_matrix\n",
    "from sklearn.metrics import accuracy_score\n",
    "from sklearn.metrics import precision_score\n",
    "from sklearn.preprocessing import MinMaxScaler"
   ]
  },
  {
   "cell_type": "code",
   "execution_count": null,
   "id": "4645a9e3",
   "metadata": {},
   "outputs": [],
   "source": [
    "\n"
   ]
  },
  {
   "cell_type": "code",
   "execution_count": 2,
   "id": "3aa9075d",
   "metadata": {},
   "outputs": [],
   "source": [
    "#importing diabetes dataset\n",
    "diab = pd.read_csv('diabetes.csv')\n"
   ]
  },
  {
   "cell_type": "code",
   "execution_count": 3,
   "id": "e934e997",
   "metadata": {},
   "outputs": [
    {
     "data": {
      "application/vnd.jupyter.widget-view+json": {
       "model_id": "39beb2dd0b09412c8bd53037a2a753cb",
       "version_major": 2,
       "version_minor": 0
      },
      "text/plain": [
       "Summarize dataset:   0%|          | 0/5 [00:00<?, ?it/s]"
      ]
     },
     "metadata": {},
     "output_type": "display_data"
    },
    {
     "data": {
      "application/vnd.jupyter.widget-view+json": {
       "model_id": "31478eec29d0453882a1a5d41b129b15",
       "version_major": 2,
       "version_minor": 0
      },
      "text/plain": [
       "Generate report structure:   0%|          | 0/1 [00:00<?, ?it/s]"
      ]
     },
     "metadata": {},
     "output_type": "display_data"
    },
    {
     "data": {
      "application/vnd.jupyter.widget-view+json": {
       "model_id": "6b1b5d035c91408badf9da860e6b8706",
       "version_major": 2,
       "version_minor": 0
      },
      "text/plain": [
       "Render HTML:   0%|          | 0/1 [00:00<?, ?it/s]"
      ]
     },
     "metadata": {},
     "output_type": "display_data"
    },
    {
     "data": {
      "application/vnd.jupyter.widget-view+json": {
       "model_id": "34d3f77b27f34d0c85d399d45385c67c",
       "version_major": 2,
       "version_minor": 0
      },
      "text/plain": [
       "Export report to file:   0%|          | 0/1 [00:00<?, ?it/s]"
      ]
     },
     "metadata": {},
     "output_type": "display_data"
    }
   ],
   "source": [
    "#profiling data\n",
    "profile = ProfileReport(diab, explorative=True, dark_mode=True)\n",
    "\n",
    "#output in HTML\n",
    "profile.to_file('output.html')"
   ]
  },
  {
   "cell_type": "code",
   "execution_count": null,
   "id": "0afae740",
   "metadata": {},
   "outputs": [],
   "source": []
  },
  {
   "cell_type": "code",
   "execution_count": 4,
   "id": "8db42740",
   "metadata": {},
   "outputs": [
    {
     "name": "stdout",
     "output_type": "stream",
     "text": [
      "0      148.0\n",
      "1       85.0\n",
      "2      183.0\n",
      "3       89.0\n",
      "4      137.0\n",
      "       ...  \n",
      "763    101.0\n",
      "764    122.0\n",
      "765    121.0\n",
      "766    126.0\n",
      "767     93.0\n",
      "Name: Glucose, Length: 768, dtype: float64\n",
      "0      72.0\n",
      "1      66.0\n",
      "2      64.0\n",
      "3      66.0\n",
      "4      40.0\n",
      "       ... \n",
      "763    76.0\n",
      "764    70.0\n",
      "765    72.0\n",
      "766    60.0\n",
      "767    70.0\n",
      "Name: BloodPressure, Length: 768, dtype: float64\n",
      "0      35.0\n",
      "1      29.0\n",
      "2      29.0\n",
      "3      23.0\n",
      "4      35.0\n",
      "       ... \n",
      "763    48.0\n",
      "764    27.0\n",
      "765    23.0\n",
      "766    29.0\n",
      "767    31.0\n",
      "Name: SkinThickness, Length: 768, dtype: float64\n",
      "0      155.0\n",
      "1      155.0\n",
      "2      155.0\n",
      "3       94.0\n",
      "4      168.0\n",
      "       ...  \n",
      "763    180.0\n",
      "764    155.0\n",
      "765    112.0\n",
      "766    155.0\n",
      "767    155.0\n",
      "Name: Insulin, Length: 768, dtype: float64\n",
      "0      33.6\n",
      "1      26.6\n",
      "2      23.3\n",
      "3      28.1\n",
      "4      43.1\n",
      "       ... \n",
      "763    32.9\n",
      "764    36.8\n",
      "765    26.2\n",
      "766    30.1\n",
      "767    30.4\n",
      "Name: BMI, Length: 768, dtype: float64\n"
     ]
    }
   ],
   "source": [
    "#replacing zeros\n",
    "non_zero = ['Glucose','BloodPressure','SkinThickness','Insulin','BMI']\n",
    "for coloumn in non_zero:\n",
    "    diab[coloumn] = diab[coloumn].replace(0,np.NaN)\n",
    "    mean = int(diab[coloumn].mean(skipna = True))\n",
    "    diab[coloumn] = diab[coloumn].replace(np.NaN, mean)\n",
    "    print(diab[coloumn])"
   ]
  },
  {
   "cell_type": "code",
   "execution_count": null,
   "id": "45961a1e",
   "metadata": {},
   "outputs": [],
   "source": []
  },
  {
   "cell_type": "code",
   "execution_count": 6,
   "id": "cb291979",
   "metadata": {},
   "outputs": [
    {
     "data": {
      "text/html": [
       "<div>\n",
       "<style scoped>\n",
       "    .dataframe tbody tr th:only-of-type {\n",
       "        vertical-align: middle;\n",
       "    }\n",
       "\n",
       "    .dataframe tbody tr th {\n",
       "        vertical-align: top;\n",
       "    }\n",
       "\n",
       "    .dataframe thead th {\n",
       "        text-align: right;\n",
       "    }\n",
       "</style>\n",
       "<table border=\"1\" class=\"dataframe\">\n",
       "  <thead>\n",
       "    <tr style=\"text-align: right;\">\n",
       "      <th></th>\n",
       "      <th>Pregnancies</th>\n",
       "      <th>Glucose</th>\n",
       "      <th>BloodPressure</th>\n",
       "      <th>SkinThickness</th>\n",
       "      <th>Insulin</th>\n",
       "      <th>BMI</th>\n",
       "      <th>DiabetesPedigreeFunction</th>\n",
       "      <th>Age</th>\n",
       "      <th>Outcome</th>\n",
       "    </tr>\n",
       "  </thead>\n",
       "  <tbody>\n",
       "    <tr>\n",
       "      <th>0</th>\n",
       "      <td>6</td>\n",
       "      <td>148</td>\n",
       "      <td>72</td>\n",
       "      <td>35</td>\n",
       "      <td>0</td>\n",
       "      <td>33.6</td>\n",
       "      <td>0.627</td>\n",
       "      <td>50</td>\n",
       "      <td>1</td>\n",
       "    </tr>\n",
       "    <tr>\n",
       "      <th>1</th>\n",
       "      <td>1</td>\n",
       "      <td>85</td>\n",
       "      <td>66</td>\n",
       "      <td>29</td>\n",
       "      <td>0</td>\n",
       "      <td>26.6</td>\n",
       "      <td>0.351</td>\n",
       "      <td>31</td>\n",
       "      <td>0</td>\n",
       "    </tr>\n",
       "    <tr>\n",
       "      <th>2</th>\n",
       "      <td>8</td>\n",
       "      <td>183</td>\n",
       "      <td>64</td>\n",
       "      <td>0</td>\n",
       "      <td>0</td>\n",
       "      <td>23.3</td>\n",
       "      <td>0.672</td>\n",
       "      <td>32</td>\n",
       "      <td>1</td>\n",
       "    </tr>\n",
       "    <tr>\n",
       "      <th>3</th>\n",
       "      <td>1</td>\n",
       "      <td>89</td>\n",
       "      <td>66</td>\n",
       "      <td>23</td>\n",
       "      <td>94</td>\n",
       "      <td>28.1</td>\n",
       "      <td>0.167</td>\n",
       "      <td>21</td>\n",
       "      <td>0</td>\n",
       "    </tr>\n",
       "    <tr>\n",
       "      <th>4</th>\n",
       "      <td>0</td>\n",
       "      <td>137</td>\n",
       "      <td>40</td>\n",
       "      <td>35</td>\n",
       "      <td>168</td>\n",
       "      <td>43.1</td>\n",
       "      <td>2.288</td>\n",
       "      <td>33</td>\n",
       "      <td>1</td>\n",
       "    </tr>\n",
       "  </tbody>\n",
       "</table>\n",
       "</div>"
      ],
      "text/plain": [
       "   Pregnancies  Glucose  BloodPressure  SkinThickness  Insulin   BMI  \\\n",
       "0            6      148             72             35        0  33.6   \n",
       "1            1       85             66             29        0  26.6   \n",
       "2            8      183             64              0        0  23.3   \n",
       "3            1       89             66             23       94  28.1   \n",
       "4            0      137             40             35      168  43.1   \n",
       "\n",
       "   DiabetesPedigreeFunction  Age  Outcome  \n",
       "0                     0.627   50        1  \n",
       "1                     0.351   31        0  \n",
       "2                     0.672   32        1  \n",
       "3                     0.167   21        0  \n",
       "4                     2.288   33        1  "
      ]
     },
     "execution_count": 6,
     "metadata": {},
     "output_type": "execute_result"
    }
   ],
   "source": [
    "#showing head\n",
    "diab.head()"
   ]
  },
  {
   "cell_type": "code",
   "execution_count": 7,
   "id": "c8afba07",
   "metadata": {},
   "outputs": [
    {
     "data": {
      "text/plain": [
       "(768, 9)"
      ]
     },
     "execution_count": 7,
     "metadata": {},
     "output_type": "execute_result"
    }
   ],
   "source": [
    "#checking dataframe shape\n",
    "diab.shape"
   ]
  },
  {
   "cell_type": "code",
   "execution_count": 8,
   "id": "4a36c4f6",
   "metadata": {},
   "outputs": [
    {
     "data": {
      "text/plain": [
       "Pregnancies                 0\n",
       "Glucose                     0\n",
       "BloodPressure               0\n",
       "SkinThickness               0\n",
       "Insulin                     0\n",
       "BMI                         0\n",
       "DiabetesPedigreeFunction    0\n",
       "Age                         0\n",
       "Outcome                     0\n",
       "dtype: int64"
      ]
     },
     "execution_count": 8,
     "metadata": {},
     "output_type": "execute_result"
    }
   ],
   "source": [
    "#cheching for null values\n",
    "diab.isnull().sum()"
   ]
  },
  {
   "cell_type": "code",
   "execution_count": null,
   "id": "4204f017",
   "metadata": {},
   "outputs": [],
   "source": []
  },
  {
   "cell_type": "code",
   "execution_count": 9,
   "id": "df06c431",
   "metadata": {},
   "outputs": [
    {
     "name": "stdout",
     "output_type": "stream",
     "text": [
      "0      148.0\n",
      "1       85.0\n",
      "2      183.0\n",
      "3       89.0\n",
      "4      137.0\n",
      "       ...  \n",
      "763    101.0\n",
      "764    122.0\n",
      "765    121.0\n",
      "766    126.0\n",
      "767     93.0\n",
      "Name: Glucose, Length: 768, dtype: float64\n",
      "0      72.0\n",
      "1      66.0\n",
      "2      64.0\n",
      "3      66.0\n",
      "4      40.0\n",
      "       ... \n",
      "763    76.0\n",
      "764    70.0\n",
      "765    72.0\n",
      "766    60.0\n",
      "767    70.0\n",
      "Name: BloodPressure, Length: 768, dtype: float64\n",
      "0      35.0\n",
      "1      29.0\n",
      "2      29.0\n",
      "3      23.0\n",
      "4      35.0\n",
      "       ... \n",
      "763    48.0\n",
      "764    27.0\n",
      "765    23.0\n",
      "766    29.0\n",
      "767    31.0\n",
      "Name: SkinThickness, Length: 768, dtype: float64\n",
      "0      155.0\n",
      "1      155.0\n",
      "2      155.0\n",
      "3       94.0\n",
      "4      168.0\n",
      "       ...  \n",
      "763    180.0\n",
      "764    155.0\n",
      "765    112.0\n",
      "766    155.0\n",
      "767    155.0\n",
      "Name: Insulin, Length: 768, dtype: float64\n",
      "0      33.6\n",
      "1      26.6\n",
      "2      23.3\n",
      "3      28.1\n",
      "4      43.1\n",
      "       ... \n",
      "763    32.9\n",
      "764    36.8\n",
      "765    26.2\n",
      "766    30.1\n",
      "767    30.4\n",
      "Name: BMI, Length: 768, dtype: float64\n"
     ]
    }
   ],
   "source": [
    "#filling zeros with mean value\n",
    "non_zero = ['Glucose','BloodPressure','SkinThickness','Insulin','BMI']\n",
    "for coloumn in non_zero:\n",
    "    diab[coloumn] = diab[coloumn].replace(0,np.NaN)\n",
    "    mean = int(diab[coloumn].mean(skipna = True))\n",
    "    diab[coloumn] = diab[coloumn].replace(np.NaN, mean)\n",
    "    print(diab[coloumn])"
   ]
  },
  {
   "cell_type": "code",
   "execution_count": null,
   "id": "023f709e",
   "metadata": {},
   "outputs": [],
   "source": []
  },
  {
   "cell_type": "code",
   "execution_count": 24,
   "id": "ebc11c39",
   "metadata": {},
   "outputs": [],
   "source": [
    "# ML train"
   ]
  },
  {
   "cell_type": "code",
   "execution_count": 10,
   "id": "d516bd72",
   "metadata": {},
   "outputs": [],
   "source": [
    "#all the column except the last one (features)\n",
    "X =diab.iloc[:,0:8]\n",
    "\n",
    "#the outcome column (label)\n",
    "y =diab.iloc[:,8]\n",
    "\n",
    "#feature scaling\n",
    "scaler = MinMaxScaler()\n",
    "X = scaler.fit_transform(X)\n",
    "\n",
    "#testing and training\n",
    "X_train, X_test, y_train, y_test = train_test_split(X, y, test_size=0.2,random_state=0, stratify=y)"
   ]
  },
  {
   "cell_type": "code",
   "execution_count": 11,
   "id": "e49d8eed",
   "metadata": {},
   "outputs": [
    {
     "name": "stdout",
     "output_type": "stream",
     "text": [
      "Model accuracy on test set: 0.75\n"
     ]
    }
   ],
   "source": [
    "#fitting model\n",
    "model = KNN(n_neighbors=5).fit(X_train, y_train)\n",
    "\n",
    "#predictions and model accuracy\n",
    "y_pred = model.predict(X_test)\n",
    "print(f'Model accuracy on test set: {accuracy_score(y_test, y_pred):.2f}')"
   ]
  },
  {
   "cell_type": "code",
   "execution_count": 12,
   "id": "5cd91a95",
   "metadata": {},
   "outputs": [
    {
     "name": "stdout",
     "output_type": "stream",
     "text": [
      "Validation accuracy with k 1: 0.71\n",
      "Validation accuracy with k 2: 0.72\n",
      "Validation accuracy with k 3: 0.75\n",
      "Validation accuracy with k 5: 0.75\n",
      "Validation accuracy with k 10: 0.78\n"
     ]
    }
   ],
   "source": [
    "#best k\n",
    "for k in [1,2,3,5,10]:\n",
    "    model = KNN(n_neighbors=k)\n",
    "    model.fit(X_train, y_train)\n",
    "    predictions = model.predict(X_test)\n",
    "    validation_accuracy = accuracy_score(y_test, predictions)\n",
    "    print('Validation accuracy with k {}: {:.2f}'.format(k, validation_accuracy))  "
   ]
  },
  {
   "cell_type": "code",
   "execution_count": 13,
   "id": "ffe0ffbf",
   "metadata": {},
   "outputs": [
    {
     "name": "stdout",
     "output_type": "stream",
     "text": [
      "Model accuracy on test set: 0.78\n"
     ]
    }
   ],
   "source": [
    "#training model with best k\n",
    "model = KNN(n_neighbors=10).fit(X_train, y_train)\n",
    "\n",
    "#predictions and model accuracy\n",
    "y_pred = model.predict(X_test)\n",
    "\n",
    "#accuracy\n",
    "print(f'Model accuracy on test set: {accuracy_score(y_test, y_pred):.2f}')"
   ]
  },
  {
   "cell_type": "code",
   "execution_count": 14,
   "id": "a731f76c",
   "metadata": {},
   "outputs": [
    {
     "data": {
      "text/plain": [
       "array([[89, 11],\n",
       "       [23, 31]])"
      ]
     },
     "execution_count": 14,
     "metadata": {},
     "output_type": "execute_result"
    }
   ],
   "source": [
    "#confusion matrix\n",
    "cm= confusion_matrix(y_test, y_pred)\n",
    "cm"
   ]
  },
  {
   "cell_type": "code",
   "execution_count": null,
   "id": "963edd09",
   "metadata": {},
   "outputs": [],
   "source": []
  },
  {
   "cell_type": "code",
   "execution_count": 15,
   "id": "c75cbd30",
   "metadata": {},
   "outputs": [
    {
     "name": "stdout",
     "output_type": "stream",
     "text": [
      " 0.74\n"
     ]
    }
   ],
   "source": [
    "#precision score\n",
    "precision = precision_score(y_test, y_pred)\n",
    "\n",
    "print(f'{precision: .2f}')"
   ]
  },
  {
   "cell_type": "code",
   "execution_count": null,
   "id": "3c9b2458",
   "metadata": {},
   "outputs": [],
   "source": []
  },
  {
   "cell_type": "code",
   "execution_count": 23,
   "id": "6a23a363",
   "metadata": {},
   "outputs": [],
   "source": [
    "import matplotlib.pyplot as plt\n",
    "import seaborn as sns\n",
    "\n",
    "plt.figure(figsize=(10, 10))\n",
    "\n",
    "#diabetes outcome (Kernel Density Estimation)\n",
    "ax = sns.kdeplot(y, color=\"r\", label=\"Actual Value\") #y = diab['Outcome']\n",
    "\n",
    "#predictions (Kernel Densiti Estimation), in the same plot (ax=ax)\n",
    "sns.kdeplot(y_pred, color=\"b\", label=\"Predicted Values\", ax=ax)\n",
    "\n",
    "#labeling title\n",
    "plt.title('Actual vs Precited values')\n",
    "\n",
    "#showing legend\n",
    "plt.legend()\n",
    "\n",
    "#showing plot\n",
    "plt.show()"
   ]
  },
  {
   "cell_type": "code",
   "execution_count": null,
   "id": "510bcd1f",
   "metadata": {},
   "outputs": [],
   "source": []
  },
  {
   "cell_type": "code",
   "execution_count": null,
   "id": "02c0caf2",
   "metadata": {},
   "outputs": [],
   "source": []
  },
  {
   "cell_type": "code",
   "execution_count": 21,
   "id": "15996458",
   "metadata": {},
   "outputs": [],
   "source": [
    "# CAN WE FIND THE BEST ML ALGORITHM?"
   ]
  },
  {
   "cell_type": "code",
   "execution_count": 20,
   "id": "a8ac8d8e",
   "metadata": {},
   "outputs": [
    {
     "data": {
      "text/html": [
       "<style type=\"text/css\">\n",
       "#T_906f6_ th {\n",
       "  text-align: left;\n",
       "}\n",
       "#T_906f6_row0_col0, #T_906f6_row0_col2, #T_906f6_row0_col3, #T_906f6_row0_col5, #T_906f6_row1_col0, #T_906f6_row1_col1, #T_906f6_row1_col2, #T_906f6_row1_col3, #T_906f6_row1_col4, #T_906f6_row1_col6, #T_906f6_row1_col7, #T_906f6_row2_col0, #T_906f6_row2_col1, #T_906f6_row2_col2, #T_906f6_row2_col3, #T_906f6_row2_col4, #T_906f6_row2_col5, #T_906f6_row2_col6, #T_906f6_row2_col7, #T_906f6_row3_col0, #T_906f6_row3_col1, #T_906f6_row3_col2, #T_906f6_row3_col3, #T_906f6_row3_col4, #T_906f6_row3_col5, #T_906f6_row3_col6, #T_906f6_row3_col7, #T_906f6_row4_col0, #T_906f6_row4_col1, #T_906f6_row4_col2, #T_906f6_row4_col3, #T_906f6_row4_col4, #T_906f6_row4_col5, #T_906f6_row4_col6, #T_906f6_row4_col7, #T_906f6_row5_col0, #T_906f6_row5_col1, #T_906f6_row5_col3, #T_906f6_row5_col4, #T_906f6_row5_col5, #T_906f6_row5_col6, #T_906f6_row5_col7, #T_906f6_row6_col0, #T_906f6_row6_col1, #T_906f6_row6_col2, #T_906f6_row6_col3, #T_906f6_row6_col4, #T_906f6_row6_col5, #T_906f6_row6_col6, #T_906f6_row6_col7, #T_906f6_row7_col0, #T_906f6_row7_col1, #T_906f6_row7_col2, #T_906f6_row7_col3, #T_906f6_row7_col4, #T_906f6_row7_col5, #T_906f6_row7_col6, #T_906f6_row7_col7, #T_906f6_row8_col0, #T_906f6_row8_col1, #T_906f6_row8_col2, #T_906f6_row8_col4, #T_906f6_row8_col5, #T_906f6_row8_col6, #T_906f6_row8_col7, #T_906f6_row9_col0, #T_906f6_row9_col1, #T_906f6_row9_col2, #T_906f6_row9_col3, #T_906f6_row9_col4, #T_906f6_row9_col5, #T_906f6_row9_col6, #T_906f6_row9_col7, #T_906f6_row10_col0, #T_906f6_row10_col1, #T_906f6_row10_col2, #T_906f6_row10_col3, #T_906f6_row10_col4, #T_906f6_row10_col5, #T_906f6_row10_col6, #T_906f6_row10_col7, #T_906f6_row11_col0, #T_906f6_row11_col1, #T_906f6_row11_col2, #T_906f6_row11_col3, #T_906f6_row11_col4, #T_906f6_row11_col5, #T_906f6_row11_col6, #T_906f6_row11_col7, #T_906f6_row12_col0, #T_906f6_row12_col1, #T_906f6_row12_col2, #T_906f6_row12_col3, #T_906f6_row12_col4, #T_906f6_row12_col5, #T_906f6_row12_col6, #T_906f6_row12_col7, #T_906f6_row13_col0, #T_906f6_row13_col1, #T_906f6_row13_col2, #T_906f6_row13_col3, #T_906f6_row13_col4, #T_906f6_row13_col5, #T_906f6_row13_col6, #T_906f6_row13_col7 {\n",
       "  text-align: left;\n",
       "}\n",
       "#T_906f6_row0_col1, #T_906f6_row0_col4, #T_906f6_row0_col6, #T_906f6_row0_col7, #T_906f6_row1_col5, #T_906f6_row5_col2, #T_906f6_row8_col3 {\n",
       "  text-align: left;\n",
       "  background-color: yellow;\n",
       "}\n",
       "#T_906f6_row0_col8, #T_906f6_row1_col8, #T_906f6_row2_col8, #T_906f6_row3_col8, #T_906f6_row4_col8, #T_906f6_row5_col8, #T_906f6_row6_col8, #T_906f6_row7_col8, #T_906f6_row8_col8, #T_906f6_row9_col8, #T_906f6_row10_col8, #T_906f6_row12_col8, #T_906f6_row13_col8 {\n",
       "  text-align: left;\n",
       "  background-color: lightgrey;\n",
       "}\n",
       "#T_906f6_row11_col8 {\n",
       "  text-align: left;\n",
       "  background-color: yellow;\n",
       "  background-color: lightgrey;\n",
       "}\n",
       "</style>\n",
       "<table id=\"T_906f6_\">\n",
       "  <thead>\n",
       "    <tr>\n",
       "      <th class=\"blank level0\" >&nbsp;</th>\n",
       "      <th class=\"col_heading level0 col0\" >Model</th>\n",
       "      <th class=\"col_heading level0 col1\" >Accuracy</th>\n",
       "      <th class=\"col_heading level0 col2\" >AUC</th>\n",
       "      <th class=\"col_heading level0 col3\" >Recall</th>\n",
       "      <th class=\"col_heading level0 col4\" >Prec.</th>\n",
       "      <th class=\"col_heading level0 col5\" >F1</th>\n",
       "      <th class=\"col_heading level0 col6\" >Kappa</th>\n",
       "      <th class=\"col_heading level0 col7\" >MCC</th>\n",
       "      <th class=\"col_heading level0 col8\" >TT (Sec)</th>\n",
       "    </tr>\n",
       "  </thead>\n",
       "  <tbody>\n",
       "    <tr>\n",
       "      <th id=\"T_906f6_level0_row0\" class=\"row_heading level0 row0\" >lr</th>\n",
       "      <td id=\"T_906f6_row0_col0\" class=\"data row0 col0\" >Logistic Regression</td>\n",
       "      <td id=\"T_906f6_row0_col1\" class=\"data row0 col1\" >0.7654</td>\n",
       "      <td id=\"T_906f6_row0_col2\" class=\"data row0 col2\" >0.8275</td>\n",
       "      <td id=\"T_906f6_row0_col3\" class=\"data row0 col3\" >0.5705</td>\n",
       "      <td id=\"T_906f6_row0_col4\" class=\"data row0 col4\" >0.7021</td>\n",
       "      <td id=\"T_906f6_row0_col5\" class=\"data row0 col5\" >0.6238</td>\n",
       "      <td id=\"T_906f6_row0_col6\" class=\"data row0 col6\" >0.4577</td>\n",
       "      <td id=\"T_906f6_row0_col7\" class=\"data row0 col7\" >0.4663</td>\n",
       "      <td id=\"T_906f6_row0_col8\" class=\"data row0 col8\" >0.2400</td>\n",
       "    </tr>\n",
       "    <tr>\n",
       "      <th id=\"T_906f6_level0_row1\" class=\"row_heading level0 row1\" >gbc</th>\n",
       "      <td id=\"T_906f6_row1_col0\" class=\"data row1 col0\" >Gradient Boosting Classifier</td>\n",
       "      <td id=\"T_906f6_row1_col1\" class=\"data row1 col1\" >0.7597</td>\n",
       "      <td id=\"T_906f6_row1_col2\" class=\"data row1 col2\" >0.8364</td>\n",
       "      <td id=\"T_906f6_row1_col3\" class=\"data row1 col3\" >0.6129</td>\n",
       "      <td id=\"T_906f6_row1_col4\" class=\"data row1 col4\" >0.6720</td>\n",
       "      <td id=\"T_906f6_row1_col5\" class=\"data row1 col5\" >0.6346</td>\n",
       "      <td id=\"T_906f6_row1_col6\" class=\"data row1 col6\" >0.4576</td>\n",
       "      <td id=\"T_906f6_row1_col7\" class=\"data row1 col7\" >0.4636</td>\n",
       "      <td id=\"T_906f6_row1_col8\" class=\"data row1 col8\" >0.1020</td>\n",
       "    </tr>\n",
       "    <tr>\n",
       "      <th id=\"T_906f6_level0_row2\" class=\"row_heading level0 row2\" >et</th>\n",
       "      <td id=\"T_906f6_row2_col0\" class=\"data row2 col0\" >Extra Trees Classifier</td>\n",
       "      <td id=\"T_906f6_row2_col1\" class=\"data row2 col1\" >0.7579</td>\n",
       "      <td id=\"T_906f6_row2_col2\" class=\"data row2 col2\" >0.8112</td>\n",
       "      <td id=\"T_906f6_row2_col3\" class=\"data row2 col3\" >0.5743</td>\n",
       "      <td id=\"T_906f6_row2_col4\" class=\"data row2 col4\" >0.6792</td>\n",
       "      <td id=\"T_906f6_row2_col5\" class=\"data row2 col5\" >0.6147</td>\n",
       "      <td id=\"T_906f6_row2_col6\" class=\"data row2 col6\" >0.4422</td>\n",
       "      <td id=\"T_906f6_row2_col7\" class=\"data row2 col7\" >0.4507</td>\n",
       "      <td id=\"T_906f6_row2_col8\" class=\"data row2 col8\" >0.3250</td>\n",
       "    </tr>\n",
       "    <tr>\n",
       "      <th id=\"T_906f6_level0_row3\" class=\"row_heading level0 row3\" >lda</th>\n",
       "      <td id=\"T_906f6_row3_col0\" class=\"data row3 col0\" >Linear Discriminant Analysis</td>\n",
       "      <td id=\"T_906f6_row3_col1\" class=\"data row3 col1\" >0.7561</td>\n",
       "      <td id=\"T_906f6_row3_col2\" class=\"data row3 col2\" >0.8266</td>\n",
       "      <td id=\"T_906f6_row3_col3\" class=\"data row3 col3\" >0.5541</td>\n",
       "      <td id=\"T_906f6_row3_col4\" class=\"data row3 col4\" >0.6843</td>\n",
       "      <td id=\"T_906f6_row3_col5\" class=\"data row3 col5\" >0.6069</td>\n",
       "      <td id=\"T_906f6_row3_col6\" class=\"data row3 col6\" >0.4350</td>\n",
       "      <td id=\"T_906f6_row3_col7\" class=\"data row3 col7\" >0.4430</td>\n",
       "      <td id=\"T_906f6_row3_col8\" class=\"data row3 col8\" >0.0280</td>\n",
       "    </tr>\n",
       "    <tr>\n",
       "      <th id=\"T_906f6_level0_row4\" class=\"row_heading level0 row4\" >ridge</th>\n",
       "      <td id=\"T_906f6_row4_col0\" class=\"data row4 col0\" >Ridge Classifier</td>\n",
       "      <td id=\"T_906f6_row4_col1\" class=\"data row4 col1\" >0.7541</td>\n",
       "      <td id=\"T_906f6_row4_col2\" class=\"data row4 col2\" >0.0000</td>\n",
       "      <td id=\"T_906f6_row4_col3\" class=\"data row4 col3\" >0.5374</td>\n",
       "      <td id=\"T_906f6_row4_col4\" class=\"data row4 col4\" >0.6856</td>\n",
       "      <td id=\"T_906f6_row4_col5\" class=\"data row4 col5\" >0.5965</td>\n",
       "      <td id=\"T_906f6_row4_col6\" class=\"data row4 col6\" >0.4258</td>\n",
       "      <td id=\"T_906f6_row4_col7\" class=\"data row4 col7\" >0.4354</td>\n",
       "      <td id=\"T_906f6_row4_col8\" class=\"data row4 col8\" >0.0410</td>\n",
       "    </tr>\n",
       "    <tr>\n",
       "      <th id=\"T_906f6_level0_row5\" class=\"row_heading level0 row5\" >rf</th>\n",
       "      <td id=\"T_906f6_row5_col0\" class=\"data row5 col0\" >Random Forest Classifier</td>\n",
       "      <td id=\"T_906f6_row5_col1\" class=\"data row5 col1\" >0.7523</td>\n",
       "      <td id=\"T_906f6_row5_col2\" class=\"data row5 col2\" >0.8371</td>\n",
       "      <td id=\"T_906f6_row5_col3\" class=\"data row5 col3\" >0.5801</td>\n",
       "      <td id=\"T_906f6_row5_col4\" class=\"data row5 col4\" >0.6645</td>\n",
       "      <td id=\"T_906f6_row5_col5\" class=\"data row5 col5\" >0.6126</td>\n",
       "      <td id=\"T_906f6_row5_col6\" class=\"data row5 col6\" >0.4342</td>\n",
       "      <td id=\"T_906f6_row5_col7\" class=\"data row5 col7\" >0.4403</td>\n",
       "      <td id=\"T_906f6_row5_col8\" class=\"data row5 col8\" >0.3600</td>\n",
       "    </tr>\n",
       "    <tr>\n",
       "      <th id=\"T_906f6_level0_row6\" class=\"row_heading level0 row6\" >dt</th>\n",
       "      <td id=\"T_906f6_row6_col0\" class=\"data row6 col0\" >Decision Tree Classifier</td>\n",
       "      <td id=\"T_906f6_row6_col1\" class=\"data row6 col1\" >0.7448</td>\n",
       "      <td id=\"T_906f6_row6_col2\" class=\"data row6 col2\" >0.7151</td>\n",
       "      <td id=\"T_906f6_row6_col3\" class=\"data row6 col3\" >0.6181</td>\n",
       "      <td id=\"T_906f6_row6_col4\" class=\"data row6 col4\" >0.6444</td>\n",
       "      <td id=\"T_906f6_row6_col5\" class=\"data row6 col5\" >0.6261</td>\n",
       "      <td id=\"T_906f6_row6_col6\" class=\"data row6 col6\" >0.4335</td>\n",
       "      <td id=\"T_906f6_row6_col7\" class=\"data row6 col7\" >0.4375</td>\n",
       "      <td id=\"T_906f6_row6_col8\" class=\"data row6 col8\" >0.0240</td>\n",
       "    </tr>\n",
       "    <tr>\n",
       "      <th id=\"T_906f6_level0_row7\" class=\"row_heading level0 row7\" >ada</th>\n",
       "      <td id=\"T_906f6_row7_col0\" class=\"data row7 col0\" >Ada Boost Classifier</td>\n",
       "      <td id=\"T_906f6_row7_col1\" class=\"data row7 col1\" >0.7429</td>\n",
       "      <td id=\"T_906f6_row7_col2\" class=\"data row7 col2\" >0.8211</td>\n",
       "      <td id=\"T_906f6_row7_col3\" class=\"data row7 col3\" >0.6020</td>\n",
       "      <td id=\"T_906f6_row7_col4\" class=\"data row7 col4\" >0.6412</td>\n",
       "      <td id=\"T_906f6_row7_col5\" class=\"data row7 col5\" >0.6151</td>\n",
       "      <td id=\"T_906f6_row7_col6\" class=\"data row7 col6\" >0.4239</td>\n",
       "      <td id=\"T_906f6_row7_col7\" class=\"data row7 col7\" >0.4286</td>\n",
       "      <td id=\"T_906f6_row7_col8\" class=\"data row7 col8\" >0.0930</td>\n",
       "    </tr>\n",
       "    <tr>\n",
       "      <th id=\"T_906f6_level0_row8\" class=\"row_heading level0 row8\" >lightgbm</th>\n",
       "      <td id=\"T_906f6_row8_col0\" class=\"data row8 col0\" >Light Gradient Boosting Machine</td>\n",
       "      <td id=\"T_906f6_row8_col1\" class=\"data row8 col1\" >0.7410</td>\n",
       "      <td id=\"T_906f6_row8_col2\" class=\"data row8 col2\" >0.8315</td>\n",
       "      <td id=\"T_906f6_row8_col3\" class=\"data row8 col3\" >0.6281</td>\n",
       "      <td id=\"T_906f6_row8_col4\" class=\"data row8 col4\" >0.6297</td>\n",
       "      <td id=\"T_906f6_row8_col5\" class=\"data row8 col5\" >0.6241</td>\n",
       "      <td id=\"T_906f6_row8_col6\" class=\"data row8 col6\" >0.4278</td>\n",
       "      <td id=\"T_906f6_row8_col7\" class=\"data row8 col7\" >0.4314</td>\n",
       "      <td id=\"T_906f6_row8_col8\" class=\"data row8 col8\" >0.0700</td>\n",
       "    </tr>\n",
       "    <tr>\n",
       "      <th id=\"T_906f6_level0_row9\" class=\"row_heading level0 row9\" >knn</th>\n",
       "      <td id=\"T_906f6_row9_col0\" class=\"data row9 col0\" >K Neighbors Classifier</td>\n",
       "      <td id=\"T_906f6_row9_col1\" class=\"data row9 col1\" >0.7280</td>\n",
       "      <td id=\"T_906f6_row9_col2\" class=\"data row9 col2\" >0.7682</td>\n",
       "      <td id=\"T_906f6_row9_col3\" class=\"data row9 col3\" >0.5532</td>\n",
       "      <td id=\"T_906f6_row9_col4\" class=\"data row9 col4\" >0.6283</td>\n",
       "      <td id=\"T_906f6_row9_col5\" class=\"data row9 col5\" >0.5829</td>\n",
       "      <td id=\"T_906f6_row9_col6\" class=\"data row9 col6\" >0.3835</td>\n",
       "      <td id=\"T_906f6_row9_col7\" class=\"data row9 col7\" >0.3890</td>\n",
       "      <td id=\"T_906f6_row9_col8\" class=\"data row9 col8\" >0.0840</td>\n",
       "    </tr>\n",
       "    <tr>\n",
       "      <th id=\"T_906f6_level0_row10\" class=\"row_heading level0 row10\" >nb</th>\n",
       "      <td id=\"T_906f6_row10_col0\" class=\"data row10 col0\" >Naive Bayes</td>\n",
       "      <td id=\"T_906f6_row10_col1\" class=\"data row10 col1\" >0.6816</td>\n",
       "      <td id=\"T_906f6_row10_col2\" class=\"data row10 col2\" >0.7488</td>\n",
       "      <td id=\"T_906f6_row10_col3\" class=\"data row10 col3\" >0.2468</td>\n",
       "      <td id=\"T_906f6_row10_col4\" class=\"data row10 col4\" >0.6215</td>\n",
       "      <td id=\"T_906f6_row10_col5\" class=\"data row10 col5\" >0.3480</td>\n",
       "      <td id=\"T_906f6_row10_col6\" class=\"data row10 col6\" >0.1844</td>\n",
       "      <td id=\"T_906f6_row10_col7\" class=\"data row10 col7\" >0.2228</td>\n",
       "      <td id=\"T_906f6_row10_col8\" class=\"data row10 col8\" >0.0200</td>\n",
       "    </tr>\n",
       "    <tr>\n",
       "      <th id=\"T_906f6_level0_row11\" class=\"row_heading level0 row11\" >dummy</th>\n",
       "      <td id=\"T_906f6_row11_col0\" class=\"data row11 col0\" >Dummy Classifier</td>\n",
       "      <td id=\"T_906f6_row11_col1\" class=\"data row11 col1\" >0.6537</td>\n",
       "      <td id=\"T_906f6_row11_col2\" class=\"data row11 col2\" >0.5000</td>\n",
       "      <td id=\"T_906f6_row11_col3\" class=\"data row11 col3\" >0.0000</td>\n",
       "      <td id=\"T_906f6_row11_col4\" class=\"data row11 col4\" >0.0000</td>\n",
       "      <td id=\"T_906f6_row11_col5\" class=\"data row11 col5\" >0.0000</td>\n",
       "      <td id=\"T_906f6_row11_col6\" class=\"data row11 col6\" >0.0000</td>\n",
       "      <td id=\"T_906f6_row11_col7\" class=\"data row11 col7\" >0.0000</td>\n",
       "      <td id=\"T_906f6_row11_col8\" class=\"data row11 col8\" >0.0160</td>\n",
       "    </tr>\n",
       "    <tr>\n",
       "      <th id=\"T_906f6_level0_row12\" class=\"row_heading level0 row12\" >svm</th>\n",
       "      <td id=\"T_906f6_row12_col0\" class=\"data row12 col0\" >SVM - Linear Kernel</td>\n",
       "      <td id=\"T_906f6_row12_col1\" class=\"data row12 col1\" >0.6107</td>\n",
       "      <td id=\"T_906f6_row12_col2\" class=\"data row12 col2\" >0.0000</td>\n",
       "      <td id=\"T_906f6_row12_col3\" class=\"data row12 col3\" >0.2909</td>\n",
       "      <td id=\"T_906f6_row12_col4\" class=\"data row12 col4\" >0.3239</td>\n",
       "      <td id=\"T_906f6_row12_col5\" class=\"data row12 col5\" >0.2356</td>\n",
       "      <td id=\"T_906f6_row12_col6\" class=\"data row12 col6\" >0.0734</td>\n",
       "      <td id=\"T_906f6_row12_col7\" class=\"data row12 col7\" >0.1036</td>\n",
       "      <td id=\"T_906f6_row12_col8\" class=\"data row12 col8\" >0.0210</td>\n",
       "    </tr>\n",
       "    <tr>\n",
       "      <th id=\"T_906f6_level0_row13\" class=\"row_heading level0 row13\" >qda</th>\n",
       "      <td id=\"T_906f6_row13_col0\" class=\"data row13 col0\" >Quadratic Discriminant Analysis</td>\n",
       "      <td id=\"T_906f6_row13_col1\" class=\"data row13 col1\" >0.5081</td>\n",
       "      <td id=\"T_906f6_row13_col2\" class=\"data row13 col2\" >0.5410</td>\n",
       "      <td id=\"T_906f6_row13_col3\" class=\"data row13 col3\" >0.6070</td>\n",
       "      <td id=\"T_906f6_row13_col4\" class=\"data row13 col4\" >0.3111</td>\n",
       "      <td id=\"T_906f6_row13_col5\" class=\"data row13 col5\" >0.3775</td>\n",
       "      <td id=\"T_906f6_row13_col6\" class=\"data row13 col6\" >0.0546</td>\n",
       "      <td id=\"T_906f6_row13_col7\" class=\"data row13 col7\" >0.0772</td>\n",
       "      <td id=\"T_906f6_row13_col8\" class=\"data row13 col8\" >0.0260</td>\n",
       "    </tr>\n",
       "  </tbody>\n",
       "</table>\n"
      ],
      "text/plain": [
       "<pandas.io.formats.style.Styler at 0x7fb989d81cd0>"
      ]
     },
     "metadata": {},
     "output_type": "display_data"
    }
   ],
   "source": [
    "from pycaret.classification import *\n",
    "\n",
    "#defining the features\n",
    "numeric_features = ['Pregnancies', 'Glucose', 'BloodPressure', 'SkinThickness', 'Insulin', 'BMI', 'DiabetesPedigreeFunction', 'Age']\n",
    "\n",
    "#setting up the data\n",
    "clf = setup(data=diab, target='Outcome')\n",
    "\n",
    "#comparing themodels\n",
    "best = compare_models()"
   ]
  },
  {
   "cell_type": "code",
   "execution_count": null,
   "id": "32ae560e",
   "metadata": {},
   "outputs": [],
   "source": []
  },
  {
   "cell_type": "code",
   "execution_count": null,
   "id": "01165cd6",
   "metadata": {},
   "outputs": [],
   "source": []
  }
 ],
 "metadata": {
  "kernelspec": {
   "display_name": "Python 3 (ipykernel)",
   "language": "python",
   "name": "python3"
  },
  "language_info": {
   "codemirror_mode": {
    "name": "ipython",
    "version": 3
   },
   "file_extension": ".py",
   "mimetype": "text/x-python",
   "name": "python",
   "nbconvert_exporter": "python",
   "pygments_lexer": "ipython3",
   "version": "3.7.10"
  },
  "toc": {
   "base_numbering": 1,
   "nav_menu": {},
   "number_sections": true,
   "sideBar": true,
   "skip_h1_title": false,
   "title_cell": "Table of Contents",
   "title_sidebar": "Contents",
   "toc_cell": false,
   "toc_position": {},
   "toc_section_display": true,
   "toc_window_display": false
  }
 },
 "nbformat": 4,
 "nbformat_minor": 5
}
